{
 "cells": [
  {
   "cell_type": "code",
   "execution_count": 1,
   "metadata": {},
   "outputs": [],
   "source": [
    "import numpy as np\n",
    "import pandas as pd\n",
    "import pickle\n",
    "\n",
    "# load atom covalent radii\n",
    "# data file from wikipedia: https://en.wikipedia.org/wiki/Atomic_radii_of_the_elements_(data_page)\n",
    "atomic_radii = pd.read_csv('data/atomic_radii.tsv', sep='\\t', index_col=0)\n",
    "mapping_element_to_covalent_radius = atomic_radii.set_index('symbol')['Covalent(single)'].to_dict()  # note: unit is pm\n",
    "\n",
    "# INPUT\n",
    "FILE_PATH = \"example/6zk6_core.usf\"\n",
    "FILE_NAME = \"6zk6_core\""
   ]
  },
  {
   "cell_type": "code",
   "execution_count": 2,
   "metadata": {},
   "outputs": [
    {
     "data": {
      "text/plain": [
       "dict_keys(['name', 'atom_type', 'coordinate', 'atom_index', 'bond', 'atom_name', 'res_index'])"
      ]
     },
     "execution_count": 2,
     "metadata": {},
     "output_type": "execute_result"
    }
   ],
   "source": [
    "# load usf data\n",
    "usf_dict = pickle.load(open(FILE_PATH, \"rb\"))\n",
    "usf_dict.keys()"
   ]
  },
  {
   "cell_type": "code",
   "execution_count": 3,
   "metadata": {},
   "outputs": [
    {
     "name": "stdout",
     "output_type": "stream",
     "text": [
      "BONDING: atoms 0 and 1 have covalant bond: 0.14836643099669392 < 0.07100000000000001 + 0.075\n",
      "BONDING: atoms 1 and 2 have covalant bond: 0.15319310874872202 < 0.075 + 0.075\n",
      "BONDING: atoms 1 and 4 have covalant bond: 0.1538181509131767 < 0.075 + 0.075\n",
      "BONDING: atoms 2 and 3 have covalant bond: 0.12377437200593648 < 0.075 + 0.063\n",
      "BONDING: atoms 4 and 5 have covalant bond: 0.15254930803328448 < 0.075 + 0.075\n",
      "BONDING: atoms 5 and 6 have covalant bond: 0.12414861815673163 < 0.075 + 0.063\n",
      "BONDING: atoms 5 and 7 have covalant bond: 0.12403985977393406 < 0.075 + 0.063\n",
      "BONDING: atoms 8 and 9 have covalant bond: 0.14750061894133612 < 0.07100000000000001 + 0.075\n",
      "BONDING: atoms 9 and 10 have covalant bond: 0.15339469600835226 < 0.075 + 0.075\n",
      "BONDING: atoms 9 and 12 have covalant bond: 0.15356521186822164 < 0.075 + 0.075\n",
      "BONDING: atoms 10 and 11 have covalant bond: 0.12307441754737822 < 0.075 + 0.063\n",
      "BONDING: atoms 12 and 13 have covalant bond: 0.14939553376459097 < 0.075 + 0.075\n",
      "BONDING: atoms 13 and 14 have covalant bond: 0.1355258256083389 < 0.075 + 0.075\n",
      "BONDING: atoms 13 and 15 have covalant bond: 0.13817191572878085 < 0.075 + 0.07100000000000001\n",
      "BONDING: atoms 14 and 17 have covalant bond: 0.1370558070693031 < 0.075 + 0.07100000000000001\n",
      "BONDING: atoms 15 and 16 have covalant bond: 0.13217781550855004 < 0.07100000000000001 + 0.075\n",
      "BONDING: atoms 16 and 17 have covalant bond: 0.13215906204662936 < 0.075 + 0.07100000000000001\n",
      "BONDING: atoms 18 and 19 have covalant bond: 0.14821961255669408 < 0.07100000000000001 + 0.075\n",
      "BONDING: atoms 19 and 20 have covalant bond: 0.15239677902712115 < 0.075 + 0.075\n",
      "BONDING: atoms 19 and 22 have covalant bond: 0.15448347425888057 < 0.075 + 0.075\n",
      "BONDING: atoms 20 and 21 have covalant bond: 0.12326538096203768 < 0.075 + 0.063\n",
      "BONDING: atoms 22 and 23 have covalant bond: 0.15139853484465435 < 0.075 + 0.075\n",
      "BONDING: atoms 23 and 24 have covalant bond: 0.12425605998255747 < 0.075 + 0.063\n",
      "BONDING: atoms 23 and 25 have covalant bond: 0.12346090823434092 < 0.075 + 0.063\n",
      "BONDING: atoms 26 and 27 have covalant bond: 0.14685966480574233 < 0.07100000000000001 + 0.075\n",
      "BONDING: atoms 27 and 28 have covalant bond: 0.15207622105938148 < 0.075 + 0.075\n",
      "BONDING: atoms 27 and 30 have covalant bond: 0.1518511220992145 < 0.075 + 0.075\n",
      "BONDING: atoms 28 and 29 have covalant bond: 0.12335769727328444 < 0.075 + 0.063\n",
      "BONDING: atoms 30 and 31 have covalant bond: 0.15245979424126196 < 0.075 + 0.075\n",
      "BONDING: atoms 31 and 32 have covalant bond: 0.15389304607535514 < 0.075 + 0.075\n",
      "BONDING: atoms 32 and 33 have covalant bond: 0.1475753286524114 < 0.075 + 0.07100000000000001\n",
      "BONDING: atoms 33 and 34 have covalant bond: 0.1329489460601017 < 0.07100000000000001 + 0.075\n",
      "BONDING: atoms 34 and 35 have covalant bond: 0.13237834030420756 < 0.075 + 0.07100000000000001\n",
      "BONDING: atoms 34 and 36 have covalant bond: 0.1323202837788681 < 0.075 + 0.07100000000000001\n",
      "BONDING: atoms 37 and 38 have covalant bond: 0.14482598137435143 < 0.07100000000000001 + 0.075\n",
      "BONDING: atoms 38 and 39 have covalant bond: 0.15265495811356275 < 0.075 + 0.075\n",
      "BONDING: atoms 38 and 41 have covalant bond: 0.15361824881209116 < 0.075 + 0.075\n",
      "BONDING: atoms 39 and 40 have covalant bond: 0.12338491266076831 < 0.075 + 0.063\n",
      "BONDING: atoms 39 and 45 have covalant bond: 0.13438431935361528 < 0.075 + 0.07100000000000001\n",
      "BONDING: atoms 41 and 42 have covalant bond: 0.14946357168772034 < 0.075 + 0.075\n",
      "BONDING: atoms 42 and 43 have covalant bond: 0.13315747431727568 < 0.075 + 0.07100000000000001\n",
      "BONDING: atoms 42 and 44 have covalant bond: 0.12344095842342166 < 0.075 + 0.063\n",
      "BONDING: atoms 45 and 46 have covalant bond: 0.14606322134999766 < 0.07100000000000001 + 0.075\n",
      "BONDING: atoms 46 and 47 have covalant bond: 0.15206485137448664 < 0.075 + 0.075\n",
      "BONDING: atoms 46 and 49 have covalant bond: 0.15276370816058685 < 0.075 + 0.075\n",
      "BONDING: atoms 47 and 48 have covalant bond: 0.1237172986089762 < 0.075 + 0.063\n",
      "BONDING: atoms 49 and 50 have covalant bond: 0.14997686924061346 < 0.075 + 0.075\n",
      "BONDING: atoms 50 and 51 have covalant bond: 0.1354715087575472 < 0.075 + 0.075\n",
      "BONDING: atoms 50 and 52 have covalant bond: 0.1380460706136715 < 0.075 + 0.07100000000000001\n",
      "BONDING: atoms 51 and 54 have covalant bond: 0.13761381437402492 < 0.075 + 0.07100000000000001\n",
      "BONDING: atoms 52 and 53 have covalant bond: 0.13268625531239558 < 0.07100000000000001 + 0.075\n",
      "BONDING: atoms 53 and 54 have covalant bond: 0.13278979723299655 < 0.075 + 0.07100000000000001\n",
      "BONDING: atoms 55 and 56 have covalant bond: 0.1456037166839931 < 0.07100000000000001 + 0.075\n",
      "BONDING: atoms 56 and 57 have covalant bond: 0.15251814817869142 < 0.075 + 0.075\n",
      "BONDING: atoms 56 and 59 have covalant bond: 0.15312066222871068 < 0.075 + 0.075\n",
      "BONDING: atoms 57 and 58 have covalant bond: 0.12394138417986231 < 0.075 + 0.063\n",
      "BONDING: atoms 59 and 60 have covalant bond: 0.15049246676305078 < 0.075 + 0.075\n",
      "BONDING: atoms 60 and 61 have covalant bond: 0.1360384750008202 < 0.075 + 0.075\n",
      "BONDING: atoms 60 and 62 have covalant bond: 0.1377451156222283 < 0.075 + 0.07100000000000001\n",
      "BONDING: atoms 61 and 64 have covalant bond: 0.13887358168590583 < 0.075 + 0.07100000000000001\n",
      "BONDING: atoms 62 and 63 have covalant bond: 0.13227844612679582 < 0.07100000000000001 + 0.075\n",
      "BONDING: atoms 63 and 64 have covalant bond: 0.1327599146713653 < 0.075 + 0.07100000000000001\n",
      "BONDING: atoms 65 and 66 have covalant bond: 0.14540343790684368 < 0.07100000000000001 + 0.075\n",
      "BONDING: atoms 66 and 67 have covalant bond: 0.1515759967708042 < 0.075 + 0.075\n",
      "BONDING: atoms 66 and 69 have covalant bond: 0.15236967180496383 < 0.075 + 0.075\n",
      "BONDING: atoms 67 and 68 have covalant bond: 0.12259581741679386 < 0.075 + 0.063\n",
      "BONDING: atoms 69 and 70 have covalant bond: 0.15341925869256107 < 0.075 + 0.075\n",
      "BONDING: atoms 70 and 71 have covalant bond: 0.15143103010663098 < 0.075 + 0.075\n",
      "BONDING: atoms 71 and 72 have covalant bond: 0.14489571122210596 < 0.075 + 0.07100000000000001\n",
      "BONDING: atoms 72 and 73 have covalant bond: 0.13311726932365914 < 0.07100000000000001 + 0.075\n",
      "BONDING: atoms 73 and 74 have covalant bond: 0.13269582299715282 < 0.075 + 0.07100000000000001\n",
      "BONDING: atoms 73 and 75 have covalant bond: 0.13321461667016762 < 0.075 + 0.07100000000000001\n",
      "BONDING: atoms 76 and 77 have covalant bond: 0.1465956827429919 < 0.07100000000000001 + 0.075\n",
      "BONDING: atoms 77 and 78 have covalant bond: 0.15405275777632285 < 0.075 + 0.075\n",
      "BONDING: atoms 77 and 80 have covalant bond: 0.15559488482738892 < 0.075 + 0.075\n",
      "BONDING: atoms 78 and 79 have covalant bond: 0.12377919298564767 < 0.075 + 0.063\n",
      "BONDING: atoms 80 and 81 have covalant bond: 0.1505379910139028 < 0.075 + 0.075\n",
      "BONDING: atoms 81 and 82 have covalant bond: 0.13572928511207638 < 0.075 + 0.075\n",
      "BONDING: atoms 81 and 83 have covalant bond: 0.13881410835141456 < 0.075 + 0.07100000000000001\n",
      "BONDING: atoms 82 and 85 have covalant bond: 0.13733395895877742 < 0.075 + 0.07100000000000001\n",
      "BONDING: atoms 83 and 84 have covalant bond: 0.1322517047157381 < 0.07100000000000001 + 0.075\n",
      "BONDING: atoms 84 and 85 have covalant bond: 0.1326195030582803 < 0.075 + 0.07100000000000001\n",
      "BONDING: atoms 88 and 89 have covalant bond: 0.15081645045416187 < 0.111 + 0.063\n",
      "BONDING: atoms 88 and 90 have covalant bond: 0.15068800421009798 < 0.111 + 0.063\n",
      "BONDING: atoms 88 and 91 have covalant bond: 0.1538561831653542 < 0.111 + 0.063\n",
      "BONDING: atoms 88 and 92 have covalant bond: 0.15103493262666542 < 0.111 + 0.063\n"
     ]
    }
   ],
   "source": [
    "bond = []\n",
    "\n",
    "for i in np.arange(len(usf_dict[\"atom_index\"])):\n",
    "    for j in np.arange(i+1, len(usf_dict[\"atom_index\"])):\n",
    "        atom_type_1 = usf_dict[\"atom_type\"][i]\n",
    "        atom_type_2 = usf_dict[\"atom_type\"][j]\n",
    "        covalent_radius_1 = mapping_element_to_covalent_radius[atom_type_1]*0.001  # convert pm to nm\n",
    "        covalent_radius_2 = mapping_element_to_covalent_radius[atom_type_2]*0.001\n",
    "        distance = np.linalg.norm(usf_dict[\"coordinate\"][i] - usf_dict[\"coordinate\"][j])\n",
    "        if distance < covalent_radius_1 + covalent_radius_2 + 0.01:\n",
    "            bond.append([i, j])\n",
    "            print(f\"BONDING: atoms {i} and {j} have covalant bond: {distance} < {covalent_radius_1} + {covalent_radius_2}\")\n",
    "        else:\n",
    "            pass\n",
    "\n",
    "usf_dict[\"bond\"] = np.array(bond)\n",
    "pickle.dump(usf_dict, open(f\"example/{FILE_NAME}.usf\", \"wb\"))"
   ]
  },
  {
   "cell_type": "code",
   "execution_count": null,
   "metadata": {},
   "outputs": [],
   "source": []
  }
 ],
 "metadata": {
  "kernelspec": {
   "display_name": "default",
   "language": "python",
   "name": "python3"
  },
  "language_info": {
   "codemirror_mode": {
    "name": "ipython",
    "version": 3
   },
   "file_extension": ".py",
   "mimetype": "text/x-python",
   "name": "python",
   "nbconvert_exporter": "python",
   "pygments_lexer": "ipython3",
   "version": "3.10.13"
  }
 },
 "nbformat": 4,
 "nbformat_minor": 2
}
