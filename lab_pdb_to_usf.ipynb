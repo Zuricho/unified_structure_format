{
 "cells": [
  {
   "cell_type": "code",
   "execution_count": 1,
   "metadata": {},
   "outputs": [],
   "source": [
    "\"\"\"\n",
    "For .pdb files from RCSB PDB\n",
    "\"\"\"\n",
    "\n",
    "import numpy as np\n",
    "import mdtraj as md\n",
    "import pickle\n",
    "\n",
    "\n",
    "# INPUT\n",
    "FILE_PATH = \"example/6zk6_core.pdb\"\n",
    "FILE_NAME = \"6zk6_core\"\n",
    "OUTPUT_FILE = \"example/6zk6_core.usf\""
   ]
  },
  {
   "cell_type": "code",
   "execution_count": 2,
   "metadata": {},
   "outputs": [],
   "source": [
    "# load file\n",
    "traj = md.load(FILE_PATH)\n",
    "\n",
    "# get atom indices without H\n",
    "atom_indices = [atom.index for atom in traj.topology.atoms if atom.element.symbol != 'H']\n",
    "atom_types = [atom.element.symbol for atom in traj.topology.atoms]\n",
    "\n",
    "\n",
    "atom_type = []\n",
    "atom_coordinate = []\n",
    "atom_index_pdb = []\n",
    "atom_index = []\n",
    "atom_name = []\n",
    "res_index = []\n",
    "\n",
    "for atom in traj.topology.atoms:\n",
    "    if atom.element.symbol != 'H':\n",
    "        atom_type.append(atom.element.symbol)\n",
    "        atom_coordinate.append(traj.xyz[0][atom.index])\n",
    "        atom_index_pdb.append(atom.index)\n",
    "        atom_name.append(atom.name)\n",
    "        res_index.append(atom.residue.index)\n",
    "atom_index = np.arange(len(atom_index_pdb))\n",
    "\n",
    "# create dictionary\n",
    "usf_dict = {\n",
    "    \"name\": FILE_NAME,\n",
    "    \"atom_type\": np.array(atom_type, dtype=str),\n",
    "    \"coordinate\": np.array(atom_coordinate, dtype=float),  # note: unit is nm\n",
    "    \"atom_index\": atom_index,\n",
    "    \"bond\": None,\n",
    "    \"atom_name\": np.array(atom_name, dtype=str),\n",
    "    \"res_index\": np.array(res_index, dtype=int),\n",
    "}\n",
    "\n",
    "# save dictionary\n",
    "pickle.dump(usf_dict, open(OUTPUT_FILE, \"wb\"))\n"
   ]
  },
  {
   "cell_type": "code",
   "execution_count": null,
   "metadata": {},
   "outputs": [],
   "source": []
  }
 ],
 "metadata": {
  "kernelspec": {
   "display_name": "openmm",
   "language": "python",
   "name": "python3"
  },
  "language_info": {
   "codemirror_mode": {
    "name": "ipython",
    "version": 3
   },
   "file_extension": ".py",
   "mimetype": "text/x-python",
   "name": "python",
   "nbconvert_exporter": "python",
   "pygments_lexer": "ipython3",
   "version": "3.10.12"
  }
 },
 "nbformat": 4,
 "nbformat_minor": 2
}
